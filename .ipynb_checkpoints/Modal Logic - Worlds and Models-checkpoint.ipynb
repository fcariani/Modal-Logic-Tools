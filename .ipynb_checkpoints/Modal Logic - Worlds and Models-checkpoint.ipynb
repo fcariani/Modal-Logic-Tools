{
 "cells": [
  {
   "cell_type": "markdown",
   "metadata": {},
   "source": [
    "# Worlds and Models Tool\n",
    "\n",
    "This tool is to help you play around with models of modal logic and to understand the role that structural conditions on frames have in determining which arguments are valid. \n",
    "\n",
    "## Language\n",
    "\n",
    "As usual we start by defining the language. A slight improvement over last time is that I am now using Unicode symbols for box, diamond and contradiction symbol (aka \"bot\"). This part of the code could still be improved a bit, but it's working for now. \n",
    "\n",
    "The important thing to notice here is that this tool can only play around with up to three atomic setnences 'p', 'q', 'r'. It would be nice to extend this to slightly larger languages, but actually three atomic sentences are enough for everything that we want to do in this class. "
   ]
  },
  {
   "cell_type": "code",
   "execution_count": 5,
   "metadata": {},
   "outputs": [],
   "source": [
    "# symbols\n",
    "\n",
    "dottedbar = u'\\u250b'\n",
    "ubox = u'\\u2610'\n",
    "udiamond = u'\\u2b26'\n",
    "bot = u'\\u22a5'\n",
    " \n",
    "# language\n",
    "atomics = ['p', 'q', 'r', bot]\n",
    "connectives = ['&', 'v', '~', '>', ubox, udiamond]\n",
    "binary_connectives = ['&', 'v', '>']\n",
    "unary_connectives = ['~', ubox, udiamond]\n",
    "primitive = [bot,'>','N']\n",
    "parentheses = ['(', ')']\n",
    "\n",
    "class binary:\n",
    "    def __init__(self, x1, x2, conn):\n",
    "        self.x1 = x1\n",
    "        self.x2 = x2\n",
    "        self.conn = conn\n",
    "    def first_arg(self):\n",
    "        return self.x1\n",
    "    def second_arg(self):\n",
    "        return self.x2\n",
    "    def connective(self):\n",
    "        return self.conn\n",
    "    def __str__(self):\n",
    "        return '('+str(self.x1)+ ' ' + self.conn + ' ' + str(self.x2) + ')'\n",
    "\n",
    "class disj(binary):\n",
    "    def __init__(self, x1, x2):\n",
    "        super().__init__(x1,x2,'v')\n",
    "\n",
    "class conj(binary):\n",
    "    def __init__(self, c1, c2):\n",
    "        super().__init__(c1,c2,'&')\n",
    "\n",
    "class cond(binary):\n",
    "    def __init__(self, a1, c2):\n",
    "        super().__init__(a1,c2,'>')\n",
    "\n",
    "class unary:\n",
    "    def __init__(self, x1, conn):\n",
    "        self.x1 = x1\n",
    "        self.conn = conn\n",
    "    def argument(self):\n",
    "        return self.x1\n",
    "    def connective(self):\n",
    "        return self.conn\n",
    "    def __str__(self):\n",
    "        return '(' + self.conn + str(self.x1) + ')'\n",
    "\n",
    "class neg(unary):\n",
    "    def __init__(self, x1):\n",
    "        super().__init__(x1, '~')\n",
    "\n",
    "class box(unary):\n",
    "    def __init__(self, x1):\n",
    "        super().__init__(x1, ubox)\n",
    "        self.x1 = x1\n",
    "\n",
    "class diamond(unary):\n",
    "    def __init__(self,x1):\n",
    "        super().__init__(x1, udiamond)\n"
   ]
  },
  {
   "cell_type": "code",
   "execution_count": 6,
   "metadata": {},
   "outputs": [
    {
     "name": "stdout",
     "output_type": "stream",
     "text": [
      "(☐(☐p))\n",
      "(⬦p)\n"
     ]
    }
   ],
   "source": [
    "print(box(box('p')))\n",
    "print(str(diamond('p')))"
   ]
  },
  {
   "cell_type": "markdown",
   "metadata": {},
   "source": [
    "## Possible Worlds\n",
    "\n",
    "This is our first major class: _possible worlds_ which as you may recall are the building blocks of model. The important thing about how to use this is that if you want to define a world what you have to do is give it three truth-values (one for p, one for q and one for r). Optionally (but I really recommend this for bookkeeping purposes,  you can give this world a name.)"
   ]
  },
  {
   "cell_type": "code",
   "execution_count": 7,
   "metadata": {},
   "outputs": [],
   "source": [
    "################### WORLDS class\n",
    "\n",
    "class world:\n",
    "    def __init__(self, p, q, r, name ='world'):\n",
    "        self.p = p\n",
    "        self.q = q\n",
    "        self.r = r\n",
    "        self.pl = 'p'\n",
    "        self.ql = 'q'\n",
    "        self.rl = 'r'\n",
    "        self.name = name\n",
    "    def atoms_value(self, atom, val):\n",
    "        if val:\n",
    "            return '  ' + atom +' '\n",
    "        else:\n",
    "            return str(neg(atom))\n",
    "    def __repr__(self):\n",
    "        return(self.name + \": |\" + self.atoms_value(self.pl, self.p) + \" | \" \n",
    "               + self.atoms_value(self.ql, self.q) + \"|\" +\n",
    "               self.atoms_value(self.rl, self.r) + \"|\" + \"\\n\")"
   ]
  },
  {
   "cell_type": "markdown",
   "metadata": {},
   "source": [
    "Here is a sample generation of a world. The first line instantiates the class by stipulating  that 'p' is True, 'q' is False, 'r' is True and that the world is called 'w0'. Next, we ask the world a few example things. We ask it to print what it thinks about 'q' and what it thinks about 'r'. Finally we ask it to display itself. "
   ]
  },
  {
   "cell_type": "code",
   "execution_count": 8,
   "metadata": {},
   "outputs": [
    {
     "name": "stdout",
     "output_type": "stream",
     "text": [
      "sentence q is False\n",
      "sentence r is True\n",
      "\n",
      "\n",
      "w0: |  p  | (~q)|  r |\n",
      "\n"
     ]
    }
   ],
   "source": [
    "w0 = world(True, False, True, 'w0')\n",
    "print('sentence q is ' + str(w0.q))\n",
    "print('sentence r is ' + str(w0.r))\n",
    "print('\\n')\n",
    "print(w0)"
   ]
  },
  {
   "cell_type": "markdown",
   "metadata": {},
   "source": [
    "## Models\n",
    "\n",
    "Worlds are just the building blocks of models. Remember that a model is a triple consisting of a set of worlds an accessibility relation and an assignment function. \n",
    "\n",
    "For the purposes of this program I have actually defined a model class whose instances  only have worlds and relations because the assignment function is baked into the worlds. \n",
    "\n",
    "As usual, the specifics of the code are unimportant to the general message (though I welcome any corrections)."
   ]
  },
  {
   "cell_type": "code",
   "execution_count": 9,
   "metadata": {
    "scrolled": false
   },
   "outputs": [],
   "source": [
    "from copy import deepcopy\n",
    "\n",
    "################### MODELS class\n",
    "\n",
    "        \n",
    "         # we implement accessibility relations as dictionaries\n",
    "        # relating each world to a set\n",
    "class model:\n",
    "    def __init__(self, worlds, relation = None):\n",
    "        self.worlds = set(worlds)\n",
    "        self.relation = relation\n",
    "        if self.relation == None:\n",
    "            self.relation = {}\n",
    "            for w in self.worlds:\n",
    "                self.relation[w] = (deepcopy(set()))            \n",
    "    def add_world(self, w):\n",
    "        self.worlds.add(w)\n",
    "    def add_link(self, w1, w2):\n",
    "        self.relation[w1].add(w2)\n",
    "    def link_all_to(self, w1):\n",
    "        for w in self.worlds:\n",
    "            self.add_link(w, w1)\n",
    "    def link_to_all(self, w1):\n",
    "        for w in self.worlds:\n",
    "            self.add_link(w1, w)\n",
    "    # add procedures for removing worlds and links\n",
    "    def relates_to(self, w):\n",
    "        return self.relation[w]\n",
    "    # some procedures to operate on the relation globally\n",
    "    def make_reflexive(self):\n",
    "        for w in self.worlds:\n",
    "            self.relation[w].add(w)\n",
    "    def check_reflexive(self):\n",
    "        answer = True\n",
    "        for w in self.worlds:\n",
    "            answer = answer and (w in self.relation[w])\n",
    "        return answer \n",
    "    def make_symmetric(self):\n",
    "        for w in self.worlds:\n",
    "            for v in self.worlds:\n",
    "                if v in self.relation[w]:\n",
    "                     self.relation[v].add(w)\n",
    "    def check_symmetric(self):\n",
    "        answer = True\n",
    "        for w in self.worlds:\n",
    "            for v in self.worlds:\n",
    "                if v in self.relation[w]:\n",
    "                    answer = answer and (w in self.relation[v])\n",
    "        return answer \n",
    "    def check_transitive(self):\n",
    "        answer = True\n",
    "        for w in self.worlds:\n",
    "            for v in self.worlds:\n",
    "                for z in self.worlds:\n",
    "                    if v in self.relation[w] and z in self.relation[v]:\n",
    "                        answer = answer and (z in self.relation[w]) \n",
    "        return answer \n",
    "    def make_transitive_step(self):\n",
    "        for w in self.worlds:\n",
    "            for v in self.worlds:\n",
    "                for z in self.worlds:\n",
    "                    if v in self.relation[w] and z in self.relation[v]:                        \n",
    "                        self.relation[w].add(z)\n",
    "    def make_transitive(self):  # in general, one application of make-transitive step, won't suffice\n",
    "        while self.check_transitive() == False: # so we iterate until the model is transitive. \n",
    "            self.make_transitive_step()\n",
    "    def check_euclidean(self):\n",
    "        answer = True\n",
    "        for w in self.worlds:\n",
    "            for v in self.worlds:\n",
    "                for z in self.worlds:\n",
    "                    if v in self.relation[w] and z in self.relation[w]:\n",
    "                        answer = answer and (z in self.relation[v]) \n",
    "        return answer \n",
    "    def make_euclidean_step(self):\n",
    "        for w in self.worlds:\n",
    "            for v in self.worlds:\n",
    "                for z in self.worlds:\n",
    "                    if v in self.relation[w] and z in self.relation[w]:                       \n",
    "                        self.add_link(v, z)  \n",
    "                        self.add_link(z, v)  \n",
    "    def make_euclidean(self):  # in general, one application of make-transitive step, won't suffice\n",
    "        while self.check_euclidean() == False: # so we iterate until the model is transitive. \n",
    "            self.make_euclidean_step()\n",
    "    def check_serial(self):\n",
    "        answer = True\n",
    "        for w in self.worlds:\n",
    "            answer = answer and (self.relation[w]!= set())\n",
    "        return answer\n",
    "    def display(self):\n",
    "        sorted_worlds = sorted(self.worlds, key= lambda world: world.name)\n",
    "        print('----------------------------------------------------')\n",
    "        print('truth-values at worlds') \n",
    "        print('----------------------------------------------------')\n",
    "        for w in sorted_worlds:\n",
    "            print(w)\n",
    "        print('----------------------------------------------------')\n",
    "        print('relation (lists the worlds that each world accesses)')\n",
    "        print('----------------------------------------------------')\n",
    "        for w in sorted_worlds:\n",
    "            print(w.name, end=\": \")\n",
    "            for v in self.relation[w]:\n",
    "            # for v in sorted(self.relation[w], key= lambda world: world.name):\n",
    "                print(v.name, end=\" \")\n",
    "            print('\\n')\n",
    "#     def display_extended(self):\n",
    "#         sorted_worlds = sorted(self.worlds, key= lambda world: world.name)\n",
    "#         print('----------------------------------------------------')\n",
    "#         print('truth-values at worlds') \n",
    "#         print('----------------------------------------------------')\n",
    "#         for w in sorted_worlds:\n",
    "#             w.display()\n",
    "#         print('----------------------------------------------------')\n",
    "#         print('relation (lists the worlds that each world accesses)')\n",
    "#         print('----------------------------------------------------')\n",
    "#         for w in sorted_worlds:\n",
    "#             print(w.name, end=\": \")\n",
    "#             for v in self.relation[w]:\n",
    "#             # for v in sorted(self.relation[w], key= lambda world: world.name):\n",
    "#                 print(v.name, end=\" \")\n",
    "#             print('\\n')\n",
    "#         print('----------------------------------------------------')\n",
    "#         print('properties')\n",
    "#         print('----------------------------------------------------')\n",
    "#         print('Reflexive? ' + str(self.check_reflexive() ))\n",
    "#         print('Symmetric? ' + str(self.check_symmetric() ))\n",
    "#         print('Transitive? ' + str(self.check_transitive() ))\n",
    "\n"
   ]
  },
  {
   "cell_type": "markdown",
   "metadata": {},
   "source": [
    "We need to define some of the key evaluation predicates. What it takes for a sentence to be true at a world in a model. Etc."
   ]
  },
  {
   "cell_type": "code",
   "execution_count": 10,
   "metadata": {},
   "outputs": [],
   "source": [
    "# this is the semantic evaluation function \n",
    "\n",
    "def true_at(A, w, M):# A is our sentence, w is a world, M is a model\n",
    "    if A in atomics:\n",
    "        if A == 'p':\n",
    "            return w.p\n",
    "        if A == 'q':\n",
    "            return w.q\n",
    "        if A == 'r':\n",
    "            return w.r\n",
    "        if A == bot:\n",
    "            return False\n",
    "    elif A.connective()=='&':\n",
    "        return true_at(A.first_arg(), w, M) and true_at(A.second_arg(), w, M)\n",
    "    elif A.connective()=='v':\n",
    "        return true_at(A.first_arg(), w, M) or true_at(A.second_arg(), w, M)\n",
    "    elif A.connective()=='>':\n",
    "        return not true_at(A.first_arg(), w, M) or true_at(A.second_arg(), w, M)\n",
    "    elif A.connective()=='~':\n",
    "        return not true_at(A.argument(), w, M)\n",
    "    elif A.connective()==ubox:\n",
    "        state = True\n",
    "        for x in M.relates_to(w):\n",
    "            state = state and true_at(A.argument(), x, M)\n",
    "        return state\n",
    "    elif A.connective()==udiamond:\n",
    "        state = False\n",
    "        for x in M.relates_to(w):\n",
    "            state = state or true_at(A.argument(), x, M) \n",
    "        return state   \n",
    "\n",
    "def true_everywhere(A, M):\n",
    "    state = True\n",
    "    for w in M.worlds:\n",
    "        state = state and true_at(A, w, M)\n",
    "    return state\n",
    "\n",
    "def true_everywhere_list(list, M):\n",
    "    state = True\n",
    "    for A in list:\n",
    "        state = state and true_everywhere(A, M)\n",
    "    return state\n",
    "\n",
    "def true_somewhere_list(lst, M):\n",
    "    witness_worlds = [] # this variable will store all of the worlds at which the list is true\n",
    "    for w in M.worlds:\n",
    "        liststate = True\n",
    "        for A in lst:\n",
    "            liststate = liststate and true_at(A,w,M)\n",
    "        if liststate:\n",
    "            witness_worlds += [w] \n",
    "    return witness_worlds\n",
    "\n",
    "def is_counterexample_q(prem, concl, M):\n",
    "    if true_somewhere_list(prem+[neg(concl)],M)!=[]:\n",
    "        return True\n",
    "\n",
    "def is_counterexample_question(prem, concl, M):\n",
    "    if true_somewhere_list(prem+[neg(concl)],M)[0]:\n",
    "        print('this model is a counterexample to the argument\\'s validity')\n",
    "        print('In particular, the premises are true and the conclusion false at worlds: ', end=\"\")\n",
    "        for w in true_somewhere_list(prem+[neg(concl)],M):\n",
    "            print(str(w.name), end=\" \")\n",
    "        print('\\n')\n",
    "    else:\n",
    "        print('this model is not a counterexample to the argument\\'s validity (but the argument may yet be invalid)')"
   ]
  },
  {
   "cell_type": "markdown",
   "metadata": {},
   "source": [
    "Let us generate a simple model with three worlds and an empty accessibility relation. "
   ]
  },
  {
   "cell_type": "code",
   "execution_count": 11,
   "metadata": {},
   "outputs": [
    {
     "name": "stdout",
     "output_type": "stream",
     "text": [
      "----------------------------------------------------\n",
      "truth-values at worlds\n",
      "----------------------------------------------------\n",
      "w1: |  p  | (~q)|  r |\n",
      "\n",
      "w2: |(~p) |   q |(~r)|\n",
      "\n",
      "w3: |  p  |   q |(~r)|\n",
      "\n",
      "----------------------------------------------------\n",
      "relation (lists the worlds that each world accesses)\n",
      "----------------------------------------------------\n",
      "w1: \n",
      "\n",
      "w2: \n",
      "\n",
      "w3: \n",
      "\n",
      "(☐p)\n",
      "True\n",
      "(⬦p)\n",
      "False\n"
     ]
    }
   ],
   "source": [
    "w1 = world(True, False, True, 'w1')\n",
    "w2 = world(False, True, False, 'w2')\n",
    "w3 = world(True, True, False, 'w3')\n",
    "m = model([w1,w2,w3])\n",
    "m.display()\n",
    "\n",
    "m.relation[w1]\n",
    "\n",
    "print(box('p'))\n",
    "print(true_at(box('p'),w1,m))\n",
    "print(diamond('p'))\n",
    "print(true_at(diamond('p'),w1,m))"
   ]
  },
  {
   "cell_type": "code",
   "execution_count": 12,
   "metadata": {
    "scrolled": true
   },
   "outputs": [
    {
     "name": "stdout",
     "output_type": "stream",
     "text": [
      "----------------------------------------------------\n",
      "truth-values at worlds\n",
      "----------------------------------------------------\n",
      "w1: |  p  | (~q)|  r |\n",
      "\n",
      "w2: |(~p) |   q |(~r)|\n",
      "\n",
      "w3: |  p  |   q |(~r)|\n",
      "\n",
      "----------------------------------------------------\n",
      "relation (lists the worlds that each world accesses)\n",
      "----------------------------------------------------\n",
      "w1: w1 \n",
      "\n",
      "w2: w2 \n",
      "\n",
      "w3: w3 \n",
      "\n",
      "(☐p)\n",
      "False\n",
      "(⬦p)\n",
      "True\n"
     ]
    }
   ],
   "source": [
    "w1 = world(True, False, True, 'w1')\n",
    "w2 = world(False, True, False, 'w2')\n",
    "w3 = world(True, True, False, 'w3')\n",
    "# r = {w1: deepcopy(set()), w2: deepcopy(set()), w3: deepcopy(set())}\n",
    "m = model([w1,w2,w3])\n",
    "m.make_reflexive()\n",
    "m.display()\n",
    "\n",
    "print(box('p'))\n",
    "print(true_at(box('p'),w2,m))\n",
    "print(diamond('p'))\n",
    "print(true_at(diamond('p'),w1,m))\n"
   ]
  },
  {
   "cell_type": "code",
   "execution_count": 13,
   "metadata": {},
   "outputs": [
    {
     "name": "stdout",
     "output_type": "stream",
     "text": [
      "----------------------------------------------------\n",
      "truth-values at worlds\n",
      "----------------------------------------------------\n",
      "w1: |  p  | (~q)|  r |\n",
      "\n",
      "w2: |(~p) |   q |(~r)|\n",
      "\n",
      "w3: |  p  |   q |(~r)|\n",
      "\n",
      "----------------------------------------------------\n",
      "relation (lists the worlds that each world accesses)\n",
      "----------------------------------------------------\n",
      "w1: w2 w1 \n",
      "\n",
      "w2: w2 w1 \n",
      "\n",
      "w3: w3 \n",
      "\n",
      "(☐p)\n",
      "False\n",
      "(⬦p)\n",
      "True\n"
     ]
    }
   ],
   "source": [
    "m.add_link(w1,w2)\n",
    "m.make_symmetric()\n",
    "m.display()\n",
    "\n",
    "print(box('p'))\n",
    "print(true_at(box('p'),w1,m))\n",
    "print(diamond('p'))\n",
    "print(true_at(diamond('p'),w1,m))\n"
   ]
  },
  {
   "cell_type": "code",
   "execution_count": 14,
   "metadata": {},
   "outputs": [
    {
     "name": "stdout",
     "output_type": "stream",
     "text": [
      "----------------------------------------------------\n",
      "truth-values at worlds\n",
      "----------------------------------------------------\n",
      "w1: |  p  | (~q)|  r |\n",
      "\n",
      "w2: |(~p) |   q |(~r)|\n",
      "\n",
      "w3: |  p  |   q |(~r)|\n",
      "\n",
      "----------------------------------------------------\n",
      "relation (lists the worlds that each world accesses)\n",
      "----------------------------------------------------\n",
      "w1: w2 w1 \n",
      "\n",
      "w2: w2 w1 \n",
      "\n",
      "w3: w3 \n",
      "\n"
     ]
    }
   ],
   "source": [
    "m.make_symmetric()\n",
    "m.display()"
   ]
  },
  {
   "cell_type": "markdown",
   "metadata": {},
   "source": [
    "# Interaction space"
   ]
  },
  {
   "cell_type": "markdown",
   "metadata": {},
   "source": [
    "## Generating Models\n",
    "\n",
    "Use this box to define or modify your model. Change the world lines to change the world features. Change the line beginning with 'r=' to change the relation. Add commands after the definition of the model. The commands you can give right now are:\n",
    "\n",
    "- `m.make_reflexive()`: forces the model to be reflexive.\n",
    "- `m.check_reflexive()`: checks whether the model is reflexive\n",
    "- `m.make_symmetric()`: whenever w sees v it ensures that v sees w\n",
    "- `m.check_symmetric()`: checks whether the model is symmetric\n",
    "- `m.make_transitive()`: whenever w sees v, and v sees z it ensures that w sees z. \n",
    "- `m.check_transitive()`: checks whether the model is transitive\n",
    "- `m.link_all_to(w)`: links everyworld to w\n",
    "- `m.link_to_all(w)`: links w to everything\n",
    "- `m.add_link(w1, w2)`: adds one specific link from w1 to w2\n",
    "- `add_world(w)`: adds an already defined world to the model"
   ]
  },
  {
   "cell_type": "code",
   "execution_count": 15,
   "metadata": {},
   "outputs": [
    {
     "name": "stdout",
     "output_type": "stream",
     "text": [
      "----------------------------------------------------\n",
      "truth-values at worlds\n",
      "----------------------------------------------------\n",
      "w1: |  p  | (~q)|  r |\n",
      "\n",
      "w2: |(~p) |   q |(~r)|\n",
      "\n",
      "w3: |  p  |   q |(~r)|\n",
      "\n",
      "----------------------------------------------------\n",
      "relation (lists the worlds that each world accesses)\n",
      "----------------------------------------------------\n",
      "w1: w2 w1 \n",
      "\n",
      "w2: w2 w1 \n",
      "\n",
      "w3: w3 w1 \n",
      "\n"
     ]
    }
   ],
   "source": [
    "w1 = world(True, False, True, 'w1') # setting the worlds the three truth-values are respectively for p, q, r\n",
    "w2 = world(False, True, False, 'w2')\n",
    "w3 = world(True, True, False, 'w3')\n",
    "r = {w1: deepcopy(set()), w2: deepcopy(set()), w3: deepcopy(set())} # this is the relation r\n",
    "m = model([w1,w2,w3], r)  # this is the model; this says that it contains w1, w2, w3 and a relation r\n",
    "\n",
    "m.link_all_to(w1)\n",
    "m.add_link(w1, w2)\n",
    "m.make_reflexive()\n",
    "m.display()\n",
    "# model commands\n",
    "\n",
    "# m.link_all_to(w1)\n",
    "# \n",
    " \n",
    "# # this tell the model to display itself\n",
    "# m.display() # this will display your model\n",
    "# print(udiamond*30)\n",
    "# print('\\n')\n",
    "\n",
    "# # this space is if you want to compare the model above with a different model. \n",
    "\n",
    "# m.make_transitive()\n",
    "# m.display()\n",
    "\n",
    "# print(udiamond*30)"
   ]
  },
  {
   "cell_type": "markdown",
   "metadata": {},
   "source": [
    "You can use the model to check for truth-values. In particular, as of right now you can give these commands. _Warning_: you will generally get an error if you type a non-sentence. _Another warning_: if you are using \"m\" from above as your model you will be evaluating the last modification (use `m.display()` if you don't recall which it is).\n",
    "\n",
    "- `true_at(sentence, world, model)`: outputs \"True\" if the sentence is true at the world in the model, False if it's false. \n",
    "- `true_everywhere(sentence, model)`: outputs \"True\" if the sentence is true at every world in the model \n",
    "- `true_everywhere_list(list_of_sentences, model)`: outputs \"True\" if every sentence in list_of_sentences is true everywhere\n",
    "- `true_somewhere_list(list, model)`: if there is a world in which every member of list is true, this outputs a list of worlds at which it's True. (The list might look weird, but those are actually our usual worlds.)\n",
    "- `is_counterexample_q'(premise-list, conclusion, model)`: combines the premise-list with the negation of the conclusion. If the combined list it true somewhere it outputs True (i.e. the model is a K-counterexample and the argument is K-invalid); else it outputs False.\n",
    "- `is_counterexample_question(premise-list, conclusion, model)`: this is a verbose version of `is_counterexample_q`"
   ]
  },
  {
   "cell_type": "code",
   "execution_count": 16,
   "metadata": {},
   "outputs": [
    {
     "data": {
      "text/plain": [
       "False"
      ]
     },
     "execution_count": 16,
     "metadata": {},
     "output_type": "execute_result"
    }
   ],
   "source": [
    "true_at(box('p'), w1, m)"
   ]
  },
  {
   "cell_type": "code",
   "execution_count": 17,
   "metadata": {},
   "outputs": [
    {
     "data": {
      "text/plain": [
       "True"
      ]
     },
     "execution_count": 17,
     "metadata": {},
     "output_type": "execute_result"
    }
   ],
   "source": [
    "true_everywhere(diamond('p'), m)"
   ]
  },
  {
   "cell_type": "code",
   "execution_count": 18,
   "metadata": {},
   "outputs": [
    {
     "data": {
      "text/plain": [
       "False"
      ]
     },
     "execution_count": 18,
     "metadata": {},
     "output_type": "execute_result"
    }
   ],
   "source": [
    "some_sentences = [box('p'), diamond('p')]\n",
    "true_everywhere_list(some_sentences, m)"
   ]
  },
  {
   "cell_type": "code",
   "execution_count": 19,
   "metadata": {},
   "outputs": [
    {
     "data": {
      "text/plain": [
       "True"
      ]
     },
     "execution_count": 19,
     "metadata": {},
     "output_type": "execute_result"
    }
   ],
   "source": [
    "some_other_sentences = [diamond('q'), diamond('p')]\n",
    "true_everywhere_list(some_other_sentences, m)"
   ]
  },
  {
   "cell_type": "code",
   "execution_count": 20,
   "metadata": {},
   "outputs": [
    {
     "name": "stdout",
     "output_type": "stream",
     "text": [
      "(☐(p v q))\n",
      "(~((☐p) v (☐q)))\n"
     ]
    },
    {
     "data": {
      "text/plain": [
       "[w2: |(~p) |   q |(~r)|, w1: |  p  | (~q)|  r |]"
      ]
     },
     "execution_count": 20,
     "metadata": {},
     "output_type": "execute_result"
    }
   ],
   "source": [
    "s1 = box(disj('p','q'))\n",
    "s2 = disj(box('p'), box('q'))\n",
    "premises = [s1]\n",
    "conclusion = s2\n",
    "testlist = premises + [neg(conclusion)]\n",
    "for sentence in testlist:\n",
    "    print(sentence)\n",
    "true_somewhere_list(testlist, m) "
   ]
  },
  {
   "cell_type": "code",
   "execution_count": 21,
   "metadata": {
    "scrolled": true
   },
   "outputs": [
    {
     "name": "stdout",
     "output_type": "stream",
     "text": [
      "w2: |(~p) |   q |(~r)|\n",
      "\n",
      "w1: |  p  | (~q)|  r |\n",
      "\n"
     ]
    }
   ],
   "source": [
    "## the list of worlds might look weird because the program lists the worlds as complex objects\n",
    "# if you want to see the worlds inside your list you should try something like:\n",
    "\n",
    "for world in true_somewhere_list(testlist, m):\n",
    "    print(world)"
   ]
  },
  {
   "cell_type": "code",
   "execution_count": 22,
   "metadata": {},
   "outputs": [
    {
     "data": {
      "text/plain": [
       "True"
      ]
     },
     "execution_count": 22,
     "metadata": {},
     "output_type": "execute_result"
    }
   ],
   "source": [
    "s1 = box(disj('p','q'))\n",
    "s2 = disj(box('p'), box('q'))\n",
    "premises = [s1]\n",
    "conclusion = s2\n",
    "is_counterexample_q(premises, conclusion,m)"
   ]
  },
  {
   "cell_type": "code",
   "execution_count": 24,
   "metadata": {},
   "outputs": [
    {
     "name": "stdout",
     "output_type": "stream",
     "text": [
      "this model is a counterexample to the argument's validity\n",
      "In particular, the premises are true and the conclusion false at worlds: w2 w1 \n",
      "\n"
     ]
    }
   ],
   "source": [
    "is_counterexample_question(premises, conclusion,m)"
   ]
  }
 ],
 "metadata": {
  "kernelspec": {
   "display_name": "Python 3",
   "language": "python",
   "name": "python3"
  },
  "language_info": {
   "codemirror_mode": {
    "name": "ipython",
    "version": 3
   },
   "file_extension": ".py",
   "mimetype": "text/x-python",
   "name": "python",
   "nbconvert_exporter": "python",
   "pygments_lexer": "ipython3",
   "version": "3.6.4"
  }
 },
 "nbformat": 4,
 "nbformat_minor": 2
}
